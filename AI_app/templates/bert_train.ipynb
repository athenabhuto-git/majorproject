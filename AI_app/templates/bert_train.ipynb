{
 "cells": [
  {
   "cell_type": "code",
   "execution_count": null,
   "metadata": {},
   "outputs": [
    {
     "name": "stderr",
     "output_type": "stream",
     "text": [
      "[nltk_data] Downloading package stopwords to\n",
      "[nltk_data]     C:\\Users\\DELL\\AppData\\Roaming\\nltk_data...\n",
      "[nltk_data]   Unzipping corpora\\stopwords.zip.\n",
      "We strongly recommend passing in an `attention_mask` since your input_ids may be padded. See https://huggingface.co/docs/transformers/troubleshooting#incorrect-output-when-padding-tokens-arent-masked.\n"
     ]
    }
   ],
   "source": [
    "import pandas as pd\n",
    "import nltk\n",
    "from sklearn.model_selection import train_test_split\n",
    "from sklearn.ensemble import RandomForestClassifier\n",
    "from sklearn.metrics import classification_report\n",
    "from transformers import BertTokenizer\n",
    "import numpy as np\n",
    "\n",
    "# Load the dataset\n",
    "data = pd.read_csv('tweet_emotions.csv')  # Replace with the actual path to your dataset\n",
    "\n",
    "# Define the sentiment mapping to 7 categories\n",
    "sentiment_mapping = {\n",
    "    'happiness': 'happy',\n",
    "    'enthusiasm': 'happy',\n",
    "    'surprise': 'surprise',\n",
    "    'boredom': 'sadness',\n",
    "    'hate': 'anger',\n",
    "    'relief': 'neutral',\n",
    "    'empty': 'neutral',\n",
    "    'worry': 'fear',\n",
    "    'love': 'happy',\n",
    "    'sadness': 'sadness',\n",
    "    'anger': 'anger',\n",
    "    'fun': 'happy'\n",
    "}\n",
    "\n",
    "# Apply the sentiment replacements\n",
    "data['sentiment'] = data['sentiment'].replace(sentiment_mapping)\n",
    "\n",
    "# Preprocessing: Tokenization and Text Cleaning\n",
    "nltk.download('stopwords')\n",
    "from nltk.corpus import stopwords\n",
    "stop_words = set(stopwords.words('english'))\n",
    "\n",
    "def preprocess_text(text):\n",
    "    # Tokenize, remove stopwords, and apply lowercasing\n",
    "    tokens = nltk.word_tokenize(text)\n",
    "    filtered_tokens = [word.lower() for word in tokens if word.isalnum() and word.lower() not in stop_words]\n",
    "    return ' '.join(filtered_tokens)\n",
    "\n",
    "# Apply text preprocessing\n",
    "data['processed_text'] = data['content'].apply(preprocess_text)\n",
    "\n",
    "# Initialize the BERT tokenizer\n",
    "tokenizer = BertTokenizer.from_pretrained('bert-base-uncased')\n",
    "\n",
    "# Tokenize the texts using BERT tokenizer\n",
    "def tokenize_text(text):\n",
    "    return tokenizer.encode(text, add_special_tokens=True, truncation=True, padding='max_length', max_length=64)\n",
    "\n",
    "data['tokenized'] = data['processed_text'].apply(tokenize_text)\n",
    "\n",
    "# Prepare the input for RandomForest\n",
    "# Since Random Forest doesn't accept sequences directly, we need to get the tokenized input into a format suitable for it.\n",
    "# We will use the BERT embeddings to convert the text into vectors.\n",
    "from transformers import BertModel\n",
    "import torch\n",
    "\n",
    "# Load BERT model\n",
    "model = BertModel.from_pretrained('bert-base-uncased')\n",
    "\n",
    "# Function to extract BERT embeddings\n",
    "def extract_bert_embeddings(tokens):\n",
    "    # Convert token IDs to tensor and pass through BERT\n",
    "    input_ids = torch.tensor(tokens).unsqueeze(0)  # Add batch dimension\n",
    "    with torch.no_grad():\n",
    "        outputs = model(input_ids)\n",
    "    # Get the embeddings from the [CLS] token (index 0)\n",
    "    embeddings = outputs.last_hidden_state[:, 0, :].numpy()\n",
    "    return embeddings.flatten()  # Flatten to make it 1D\n",
    "\n",
    "# Extract embeddings for the tokenized data\n",
    "data['embeddings'] = data['tokenized'].apply(extract_bert_embeddings)\n",
    "\n",
    "# Prepare the features and labels\n",
    "X = np.array(data['embeddings'].tolist())\n",
    "y = data['sentiment'].map({\n",
    "    'happy': 0,\n",
    "    'surprise': 1,\n",
    "    'sadness': 2,\n",
    "    'anger': 3,\n",
    "    'neutral': 4,\n",
    "    'fear': 5\n",
    "})\n",
    "\n",
    "# Train-test split\n",
    "X_train, X_test, y_train, y_test = train_test_split(X, y, test_size=0.2, random_state=42)\n",
    "\n",
    "# Initialize the Random Forest model\n",
    "rf_model = RandomForestClassifier(n_estimators=100, random_state=42)\n",
    "\n",
    "# Train the model\n",
    "rf_model.fit(X_train, y_train)\n",
    "\n",
    "# Make predictions on the test set\n",
    "y_pred = rf_model.predict(X_test)\n",
    "\n",
    "# Print the classification report\n",
    "print(classification_report(y_test, y_pred, target_names=['happy', 'surprise', 'sadness', 'anger', 'neutral', 'fear']))\n",
    "\n",
    "# Save the updated dataset with processed text and sentiment\n",
    "data.to_csv('updated_dataset.csv', index=False)  # Save to a new CSV file\n"
   ]
  },
  {
   "cell_type": "code",
   "execution_count": 3,
   "metadata": {},
   "outputs": [
    {
     "name": "stdout",
     "output_type": "stream",
     "text": [
      "['neutral' 'sadness' 'fun' 'worry' 'love' 'anger']\n"
     ]
    }
   ],
   "source": [
    "print(data['sentiment'].unique())"
   ]
  }
 ],
 "metadata": {
  "kernelspec": {
   "display_name": "project",
   "language": "python",
   "name": "python3"
  },
  "language_info": {
   "codemirror_mode": {
    "name": "ipython",
    "version": 3
   },
   "file_extension": ".py",
   "mimetype": "text/x-python",
   "name": "python",
   "nbconvert_exporter": "python",
   "pygments_lexer": "ipython3",
   "version": "3.9.0"
  }
 },
 "nbformat": 4,
 "nbformat_minor": 2
}
